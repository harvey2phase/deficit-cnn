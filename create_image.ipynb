{
 "cells": [
  {
   "cell_type": "code",
   "execution_count": 1,
   "metadata": {
    "colab": {
     "base_uri": "https://localhost:8080/",
     "height": 122
    },
    "colab_type": "code",
    "executionInfo": {
     "elapsed": 24648,
     "status": "ok",
     "timestamp": 1549739456245,
     "user": {
      "displayName": "Harvey Wang",
      "photoUrl": "https://lh5.googleusercontent.com/-v6ZFtxMCliI/AAAAAAAAAAI/AAAAAAAABzQ/ghEL5GjlxHQ/s64/photo.jpg",
      "userId": "14547178415595556415"
     },
     "user_tz": 240
    },
    "id": "NzgGAYjLt2hU",
    "outputId": "d65c258f-7d65-4e99-eb43-80b1b09f9ba3"
   },
   "outputs": [
    {
     "name": "stdout",
     "output_type": "stream",
     "text": [
      "Go to this URL in a browser: https://accounts.google.com/o/oauth2/auth?client_id=947318989803-6bn6qk8qdgf4n4g3pfee6491hc0brc4i.apps.googleusercontent.com&redirect_uri=urn%3Aietf%3Awg%3Aoauth%3A2.0%3Aoob&scope=email%20https%3A%2F%2Fwww.googleapis.com%2Fauth%2Fdocs.test%20https%3A%2F%2Fwww.googleapis.com%2Fauth%2Fdrive%20https%3A%2F%2Fwww.googleapis.com%2Fauth%2Fdrive.photos.readonly%20https%3A%2F%2Fwww.googleapis.com%2Fauth%2Fpeopleapi.readonly&response_type=code\n",
      "\n",
      "Enter your authorization code:\n",
      "··········\n",
      "Mounted at /content/gdrive\n"
     ]
    }
   ],
   "source": [
    "from google.colab import drive\n",
    "drive.mount('/content/gdrive')\n",
    "\n",
    "path = '/content/gdrive/My Drive/Honours/Processed Data/individual_data/'"
   ]
  },
  {
   "cell_type": "code",
   "execution_count": 0,
   "metadata": {
    "colab": {},
    "colab_type": "code",
    "id": "szJJI_HhugMb"
   },
   "outputs": [],
   "source": [
    "import numpy as np\n",
    "import matplotlib.pyplot as plt"
   ]
  },
  {
   "cell_type": "code",
   "execution_count": 0,
   "metadata": {
    "colab": {},
    "colab_type": "code",
    "id": "FmmznYzoujZP"
   },
   "outputs": [],
   "source": [
    "death_age = 22\n",
    "\n",
    "filename = str(death_age) + '.txt'\n",
    "\n",
    "ind = np.loadtxt(path + filename)\n",
    "\n",
    "time = np.array(ind[:, 0], int)\n",
    "node = np.array(ind[:, 1], int)\n",
    "state = np.array(ind[:, 2], int)"
   ]
  },
  {
   "cell_type": "markdown",
   "metadata": {
    "colab_type": "text",
    "id": "yRZZ4kbquv7Y"
   },
   "source": [
    "###Discretize time to 1 year and make a 2D image of node health vs. time"
   ]
  },
  {
   "cell_type": "code",
   "execution_count": 0,
   "metadata": {
    "colab": {},
    "colab_type": "code",
    "id": "jwvC3KLAu8q4"
   },
   "outputs": [],
   "source": [
    "image_length = death_age + 1\n",
    "image = np.zeros((image_length, 10000))\n",
    "year = 0\n",
    "year_end = 1\n",
    "\n",
    "for i in range(len(time)):\n",
    "    image[time[i]][node[i]] = state[i]"
   ]
  },
  {
   "cell_type": "code",
   "execution_count": 0,
   "metadata": {
    "colab": {},
    "colab_type": "code",
    "id": "cVGvmUiI7inf"
   },
   "outputs": [],
   "source": [
    "for year in range(image_length):\n",
    "    for node in range(10000):\n",
    "        if image[year][node] == 1:\n",
    "            plt.scatter(year, node, c = 'red')\n",
    "        else:\n",
    "            plt.scatter(year, node, c = 'green')"
   ]
  }
 ],
 "metadata": {
  "accelerator": "GPU",
  "colab": {
   "collapsed_sections": [],
   "name": "create_image.ipynb",
   "provenance": [],
   "version": "0.3.2"
  },
  "kernelspec": {
   "display_name": "Python 3",
   "language": "python",
   "name": "python3"
  },
  "language_info": {
   "codemirror_mode": {
    "name": "ipython",
    "version": 3
   },
   "file_extension": ".py",
   "mimetype": "text/x-python",
   "name": "python",
   "nbconvert_exporter": "python",
   "pygments_lexer": "ipython3",
   "version": "3.7.1"
  }
 },
 "nbformat": 4,
 "nbformat_minor": 1
}
