{
 "cells": [
  {
   "cell_type": "markdown",
   "metadata": {},
   "source": [
    "# CSCI 4155 - Machine Learning: Assignment 4"
   ]
  },
  {
   "cell_type": "code",
   "execution_count": 1,
   "metadata": {},
   "outputs": [],
   "source": [
    "import numpy as np\n",
    "import matplotlib.pyplot as plt\n",
    "import random as ran"
   ]
  },
  {
   "cell_type": "markdown",
   "metadata": {},
   "source": [
    "## Question 1\n",
    "_Q: Implement a multi-layer perceptron (MLP) by modifying the MLP program from the class to solve the XOR problem and train it to translate the digital letters given in file pattern1 into the corresponding ASCII representation. In the file, each letter of the alphabet is represented by a matrix of 12x13 binary values so that each consecutive 12 rows represent one letter. Plot a training curve and interpret your results._\n",
    "\n",
    "A: The compare() function compares the prediction made by the MLP to the expected results. It outputs 1.0 (100%) most of the time, suggesting that the MLP has learned the given pattern somewhat accurately, and only ocassionally mis-predict a character."
   ]
  },
  {
   "cell_type": "markdown",
   "metadata": {},
   "source": [
    "#### Define functions to obtain input and output"
   ]
  },
  {
   "cell_type": "code",
   "execution_count": 2,
   "metadata": {},
   "outputs": [],
   "source": [
    "def get_pattern():\n",
    "    p1 = np.loadtxt('pattern1.txt')\n",
    "    pattern = []\n",
    "\n",
    "    p, l = 0, 0\n",
    "    while p < len(p1):\n",
    "        letter = []\n",
    "        while p < (l + 1) * 12:\n",
    "            for pp in p1[p]:\n",
    "                letter.append(pp)\n",
    "            p += 1\n",
    "        pattern.append(letter)\n",
    "        l += 1\n",
    "\n",
    "    pattern = np.array(pattern)\n",
    "    return np.array(pattern)\n",
    "\n",
    "def get_ascii():\n",
    "    letters = []\n",
    "\n",
    "    for i in np.arange(65, 65 + 26):\n",
    "        al = bin(i)\n",
    "        letter = []\n",
    "        for a in al:\n",
    "            if a.isdigit():\n",
    "                letter.append(float(a))\n",
    "        letters.append(np.array(letter))\n",
    "\n",
    "    return np.array(letters)\n",
    "\n",
    "def get_alphabets():\n",
    "    al = []\n",
    "    for i in np.arange(65, 65 + 26):\n",
    "        al.append(chr(i))\n",
    "    return np.array(al)"
   ]
  },
  {
   "cell_type": "markdown",
   "metadata": {},
   "source": [
    "#### Functions to train, predict, compare, and plot the results"
   ]
  },
  {
   "cell_type": "code",
   "execution_count": 3,
   "metadata": {},
   "outputs": [],
   "source": [
    "def train(X):\n",
    "    error = np.array([])\n",
    "\n",
    "    wh = np.random.randn(Nh, Ni)    # weights of hidden nodes\n",
    "    wo = np.random.randn(No, Nh)    # weights of output nodes\n",
    "    dwh = np.zeros(wh.shape)        # delta weights of hidden nodes\n",
    "    dwo = np.zeros(wo.shape)        # delta weights of ouput nodes\n",
    "    \n",
    "    # Train\n",
    "    for trials in range(N):\n",
    "\n",
    "        # the sigmoid gain functions\n",
    "        h = 1 / (1 + np.exp(np.dot(-wh, X.T)))\n",
    "        y = 1 / (1 + np.exp(np.dot(-wo, h)))\n",
    "\n",
    "        do = y * (1 - y) * (Y.T - y)\n",
    "        dh = h * (1 - h) * (np.dot(wo.T, do))\n",
    "\n",
    "        # update weights with momentum\n",
    "        dwo = 0.9 * dwo + np.dot(do, h.T)\n",
    "        wo = wo + 0.1 * dwo\n",
    "        dwh = 0.9 * dwh + np.dot(dh, X)\n",
    "        wh = wh + 0.1 * dwh\n",
    "\n",
    "        error = np.append(error, np.sum(abs(Y.T - y)))\n",
    "        \n",
    "    return error, wh, wo\n",
    "\n",
    "def predict(wh, wo):\n",
    "    h_test = 1 / (1 + np.exp(np.dot(-wh, X.T)))\n",
    "    y_test = 1 / (1 + np.exp(np.dot(-wo, h_test)))\n",
    "\n",
    "    y_test = y_test.T\n",
    "    predictions = []\n",
    "    for j in range(len(y_test)):\n",
    "        v = 0\n",
    "        for i in range(len(y_test[j])):\n",
    "            if y_test[j][i] > thresh:\n",
    "                y_test[j][i] = 1\n",
    "                v += 2 ** (7 - i)\n",
    "            else:\n",
    "                y_test[j][i] = 0\n",
    "        predictions.append(chr(v))\n",
    "\n",
    "    return np.array(predictions)\n",
    "\n",
    "def compare(y):\n",
    "    error = 0\n",
    "    for i in range(len(y_true)):\n",
    "        if not y[i] == y_true[i]:\n",
    "            error += 1\n",
    "    return (26 - error) / 26\n",
    "    \n",
    "def plot(error):\n",
    "    plt.plot(error)\n",
    "    plt.title('Learning Curve')\n",
    "    plt.xlabel('Number of iterations')\n",
    "    plt.ylabel('Error')\n",
    "    plt.show()"
   ]
  },
  {
   "cell_type": "code",
   "execution_count": 4,
   "metadata": {},
   "outputs": [],
   "source": [
    "X = get_pattern()\n",
    "Y = get_ascii()\n",
    "y_true = get_alphabets()\n",
    "\n",
    "Ni, Nh, No = 156, 24, 8\n",
    "N = 10 ** 3\n",
    "thresh = 10 ** -1"
   ]
  },
  {
   "cell_type": "code",
   "execution_count": 5,
   "metadata": {},
   "outputs": [
    {
     "name": "stdout",
     "output_type": "stream",
     "text": [
      "1.0\n"
     ]
    },
    {
     "data": {
      "image/png": "[encoded data removed]",
      "text/plain": [
       "<matplotlib.figure.Figure at 0x108583cf8>"
      ]
     },
     "metadata": {},
     "output_type": "display_data"
    }
   ],
   "source": [
    "error_clean, wh_clean, wo_clean = train(X)\n",
    "pred_clean = predict(wh_clean, wo_clean)\n",
    "print(compare(pred_clean))\n",
    "plot(error_clean)"
   ]
  },
  {
   "cell_type": "markdown",
   "metadata": {},
   "source": [
    "## Question 2\n",
    "_Q: Investigate how much noise the MLP can tolerate in the pattern before being unable to recognize a letter. Explain your implementation of noise and report your results._\n",
    "\n",
    "A: I implemented noise by flipping a number of bits at random indices. I plot a graph of the relationship between the number of bits flipped and the accuracy (the percentage of correctly predicted characters). Ideally, I should train with the same amount of noise, and then average the error to get more accurate results, but that is computationally costly and would take too long to run for this assignment. The accuracy falls to about 50% when noise = 10 (10 bits flipped)"
   ]
  },
  {
   "cell_type": "code",
   "execution_count": 6,
   "metadata": {},
   "outputs": [],
   "source": [
    "def add_noise(x):\n",
    "    for i in range(len(x)):\n",
    "        index = ran.randint(0, 155)\n",
    "        x[i][index] = (x[i][index] + 1) % 2\n",
    "        \n",
    "def train_and_test(noise):\n",
    "    x_noise = np.copy(X)\n",
    "\n",
    "    for i in range(noise):\n",
    "        add_noise(x_noise)\n",
    "\n",
    "    error_noise, wh_noise, wo_noise = train(x_noise)\n",
    "    pred_noise = predict(wh_noise, wo_noise)\n",
    "    return (compare(pred_noise))"
   ]
  },
  {
   "cell_type": "code",
   "execution_count": 7,
   "metadata": {},
   "outputs": [
    {
     "data": {
      "image/png": "[encoded data removed]",
      "text/plain": [
       "<matplotlib.figure.Figure at 0x10e021a58>"
      ]
     },
     "metadata": {},
     "output_type": "display_data"
    }
   ],
   "source": [
    "errors = []\n",
    "noises = []\n",
    "noise = 0\n",
    "while noise < 20:\n",
    "    error = 0\n",
    "    error_clean, wh_clean, wo_clean = train(X)\n",
    "    error = train_and_test(noise)\n",
    "    errors.append(error)\n",
    "    noises.append(noise)\n",
    "    noise += 1\n",
    "\n",
    "plt.plot(noises, errors)\n",
    "plt.xlabel('Noise')\n",
    "plt.ylabel('Percentage of Correct Predictions')\n",
    "plt.show()"
   ]
  },
  {
   "cell_type": "markdown",
   "metadata": {},
   "source": [
    "## Question 3\n",
    "_Q: Which letter is represented in file pattern2?_\n",
    "\n",
    "A: Should run the training and recognizing several times to see which character is recognized the most. I obtained 'O', 'K', 'I', etc."
   ]
  },
  {
   "cell_type": "code",
   "execution_count": 8,
   "metadata": {},
   "outputs": [
    {
     "name": "stdout",
     "output_type": "stream",
     "text": [
      "K\n"
     ]
    }
   ],
   "source": [
    "p2 = np.loadtxt('pattern2.txt')\n",
    "\n",
    "X = []\n",
    "for p in p2:\n",
    "    X = np.append(X, p)\n",
    "X = np.array(X)\n",
    "\n",
    "h = 1 / (1 + np.exp(np.dot(-wh_clean, X.T)))\n",
    "Y = 1 / (1 + np.exp(np.dot(-wo_clean, h)))\n",
    "\n",
    "v = 0\n",
    "for i in range(len(Y)):\n",
    "    if Y[i] > thresh:\n",
    "        Y[i] = 1\n",
    "        v += 2 ** (7 - i)\n",
    "    else:\n",
    "        Y[i] = 0\n",
    "\n",
    "print(chr(v))"
   ]
  }
 ],
 "metadata": {
  "kernelspec": {
   "display_name": "Python 3",
   "language": "python",
   "name": "python3"
  },
  "language_info": {
   "codemirror_mode": {
    "name": "ipython",
    "version": 3
   },
   "file_extension": ".py",
   "mimetype": "text/x-python",
   "name": "python",
   "nbconvert_exporter": "python",
   "pygments_lexer": "ipython3",
   "version": "3.7.0"
  }
 },
 "nbformat": 4,
 "nbformat_minor": 2
}
