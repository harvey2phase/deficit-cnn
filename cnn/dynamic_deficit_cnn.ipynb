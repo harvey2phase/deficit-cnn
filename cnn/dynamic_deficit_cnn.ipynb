{
  "nbformat": 4,
  "nbformat_minor": 0,
  "metadata": {
    "colab": {
      "name": "dynamic_deficit_cnn.ipynb",
      "version": "0.3.2",
      "provenance": [],
      "collapsed_sections": [
        "q3kqWRyfwc3Z"
      ],
      "include_colab_link": true
    },
    "kernelspec": {
      "name": "python3",
      "display_name": "Python 3"
    },
    "accelerator": "GPU"
  },
  "cells": [
    {
      "cell_type": "markdown",
      "metadata": {
        "id": "view-in-github",
        "colab_type": "text"
      },
      "source": [
        "<a href=\"https://colab.research.google.com/github/harvey2phase/summer-research/blob/master/cnn/dynamic_deficit_cnn.ipynb\" target=\"_parent\"><img src=\"https://colab.research.google.com/assets/colab-badge.svg\" alt=\"Open In Colab\"/></a>"
      ]
    },
    {
      "cell_type": "markdown",
      "metadata": {
        "id": "M0DJNY2_onLW",
        "colab_type": "text"
      },
      "source": [
        "function enable_vim() {\n",
        "    document.querySelectorAll(\".CodeMirror\").forEach(\n",
        "        function (e) {\n",
        "            e.CodeMirror.setOption(\"vimMode\", true);\n",
        "            CodeMirror.Vim.map('jk', '<Esc>', 'insert')\n",
        "            CodeMirror.Vim.map('JK', '<Esc>', 'insert')\n",
        "            CodeMirror.Vim.map('jk', '<Esc>', 'visual')\n",
        "            CodeMirror.Vim.map('JK', '<Esc>', 'visual')\n",
        "        }\n",
        "    );\n",
        "}\n",
        "document.addEventListener(\n",
        "    'keydown', function(e) {\n",
        "        if (e.keyCode == 13 && e.metaKey || e.keyCode == 13 && e.shiftKey) {\n",
        "            for (var i = 0; i < 10; i++) setTimeout(enable_vim, 1000 * i);\n",
        "        }\n",
        "    }\n",
        ");\n",
        "enable_vim();\n"
      ]
    },
    {
      "cell_type": "code",
      "metadata": {
        "id": "7BgtCd2okfpJ",
        "colab_type": "code",
        "outputId": "2670f62a-edf9-474b-84ee-dce4d39d2cad",
        "colab": {
          "base_uri": "https://localhost:8080/",
          "height": 54
        }
      },
      "source": [
        "from __future__ import absolute_import, division, print_function\n",
        "\n",
        "#import matplotlib.pyplot as plt\n",
        "import numpy as np\n",
        "import os\n",
        "import tensorflow as tf\n",
        "#import keras\n",
        "\n",
        "from google.colab import drive\n",
        "drive.mount('/content/gdrive')"
      ],
      "execution_count": 1,
      "outputs": [
        {
          "output_type": "stream",
          "text": [
            "Drive already mounted at /content/gdrive; to attempt to forcibly remount, call drive.mount(\"/content/gdrive\", force_remount=True).\n"
          ],
          "name": "stdout"
        }
      ]
    },
    {
      "cell_type": "markdown",
      "metadata": {
        "id": "N0-UVNQfSoyv",
        "colab_type": "text"
      },
      "source": [
        "Specify data"
      ]
    },
    {
      "cell_type": "code",
      "metadata": {
        "id": "ria_Y5e7mlEP",
        "colab_type": "code",
        "colab": {}
      },
      "source": [
        "PATH = \"/content/gdrive/My Drive/\"\n",
        "\n",
        "DATA_FOLDER = \"e4_prob_of_death_at_80/\"\n",
        "\n",
        "# Shape: [training_size, 50 * HISTORY]\n",
        "HISTORY = 5\n",
        "NODE_COUNT = 50\n",
        "\n",
        "TRAIN_SET = DATA_FOLDER + str(HISTORY) + \"x5y_train_set.txt\"\n",
        "TRAIN_LABELS = DATA_FOLDER + str(HISTORY) + \"x5y_train_labels.txt\"\n",
        "EVAL_SET = DATA_FOLDER + str(HISTORY) + \"x5y_eval_set.txt\"\n",
        "EVAL_LABELS = DATA_FOLDER + str(HISTORY) + \"x5y_eval_labels.txt\""
      ],
      "execution_count": 0,
      "outputs": []
    },
    {
      "cell_type": "markdown",
      "metadata": {
        "id": "7DBk20JiSqiS",
        "colab_type": "text"
      },
      "source": [
        "Specify hyperparameters"
      ]
    },
    {
      "cell_type": "code",
      "metadata": {
        "id": "gSBZxyZAqSOd",
        "colab_type": "code",
        "colab": {}
      },
      "source": [
        "STEPS = 1 * 10 ** 5\n",
        "LEARNING_RATE = 10 ** -4\n",
        "DROPOUT_RATE = 0.4\n",
        "BATCH_SIZE = 10"
      ],
      "execution_count": 0,
      "outputs": []
    },
    {
      "cell_type": "code",
      "metadata": {
        "id": "hnAqZBPGkC2R",
        "colab_type": "code",
        "colab": {}
      },
      "source": [
        "CONV_FILTERS = [64, 128]\n",
        "CONV_SIZES = [[5, 5], [5, 5]]\n",
        "\n",
        "CONV_COUNT = len(CONV_FILTERS)\n",
        "\n",
        "POOL_SIZE = [2, 2]\n",
        "POOL_STRIDE = 2\n",
        "\n",
        "DENSE_UNITS = 1024\n",
        "LOGITS_UNITS = 10"
      ],
      "execution_count": 0,
      "outputs": []
    },
    {
      "cell_type": "markdown",
      "metadata": {
        "id": "q3kqWRyfwc3Z",
        "colab_type": "text"
      },
      "source": [
        "###Silence Warnings\n"
      ]
    },
    {
      "cell_type": "markdown",
      "metadata": {
        "id": "L7RffwGmt3pO",
        "colab_type": "text"
      },
      "source": [
        "- 0: all messages are logged (default behavior)\n",
        "- 1: INFO messages are not printed\n",
        "- 2: INFO and WARNING messages are not printed\n",
        "- 3: INFO, WARNING, and ERROR messages are not printed"
      ]
    },
    {
      "cell_type": "code",
      "metadata": {
        "id": "-2N2_KNFwcfy",
        "colab_type": "code",
        "colab": {}
      },
      "source": [
        "#os.environ['TF_CPP_MIN_LOG_LEVEL'] = '2' "
      ],
      "execution_count": 0,
      "outputs": []
    },
    {
      "cell_type": "markdown",
      "metadata": {
        "id": "hXt8jbid4Zzd",
        "colab_type": "text"
      },
      "source": [
        "###Model"
      ]
    },
    {
      "cell_type": "code",
      "metadata": {
        "id": "kNf32Dd6WpOQ",
        "colab_type": "code",
        "colab": {}
      },
      "source": [
        "def deficit_cnn_model(features, labels, mode):\n",
        "\n",
        "    ''' Input Layer '''\n",
        "    # Reshape X to 4-D tensor: [batch_size, width, height, channels]\n",
        "    input_layer = tf.reshape(features, [-1, NODE_COUNT, HISTORY, 1])\n",
        "    \n",
        "    layer = tf.reshape(features, [-1, NODE_COUNT, HISTORY, 1])\n",
        "    \n",
        "    for i in range(CONV_COUNT):\n",
        "\n",
        "        ''' Convolutional Layer '''\n",
        "        # Computes 32 features using a 5x5 filter with ReLU activation.\n",
        "        #   Padding is added to preserve width and height.\n",
        "        # Output Tensor Shape: [batch_size, 50, HISTORY, filter size]\n",
        "        layer = tf.layers.conv2d(\n",
        "            inputs = layer,\n",
        "            filters = CONV_FILTERS[i],\n",
        "            kernel_size = CONV_SIZES[i],\n",
        "            padding = \"same\",\n",
        "            activation = tf.nn.relu\n",
        "        )\n",
        "    \n",
        "        ''' Pooling Layer '''\n",
        "        # Max pooling layer with a 2x2 filter and stride of 2\n",
        "        # Output Tensor Shape: [batch_size, 25, HISTORY / 2, filter size]\n",
        "        layer = tf.layers.max_pooling2d(\n",
        "            inputs = layer,\n",
        "            pool_size = POOL_SIZE,\n",
        "            strides = POOL_STRIDE\n",
        "        )\n",
        "\n",
        "    ''' Flatten tensor into a batch of vectors '''\n",
        "    # Output Tensor Shape:\n",
        "    #   [batch_size, 12 * last filter size * (HISTORY / pooling size)]\n",
        "    pool2_flat = tf.reshape(layer, [-1, 12 * CONV_FILTERS[i] * int(HISTORY / 4)])\n",
        "\n",
        "    ''' Dense Layer '''\n",
        "    # Densely connected layer with 1024 neurons\n",
        "    # Tensor Shape: [batch_size, 1024]\n",
        "    dense = tf.layers.dense(\n",
        "        inputs = pool2_flat,\n",
        "        units = DENSE_UNITS,\n",
        "        activation = tf.nn.relu\n",
        "    )\n",
        "    \n",
        "    ''' Add dropout operation '''\n",
        "    # 0.6 probability that element will be kept\n",
        "    # Tensor Shape: [batch_size, 1024]\n",
        "    dropout = tf.layers.dropout(\n",
        "        inputs = dense,\n",
        "        rate = DROPOUT_RATE,\n",
        "        training = mode == tf.estimator.ModeKeys.TRAIN\n",
        "    )\n",
        "\n",
        "\n",
        "    ''' Logits layer '''\n",
        "    # Input Tensor Shape: [batch_size, 1024]\n",
        "    # Tensor Shape: [batch_size, 1024]\n",
        "    logits = tf.layers.dense(\n",
        "        inputs = dropout,\n",
        "        units = LOGITS_UNITS\n",
        "    )\n",
        "\n",
        "    predictions = {\n",
        "        # Generate predictions (for PREDICT and EVAL mode)\n",
        "        \"classes\": tf.argmax(input = logits, axis = 1),\n",
        "\n",
        "        # Add `softmax_tensor` to the graph.\n",
        "        # It is used for PREDICT and by the `logging_hook`.\n",
        "        \"probabilities\": tf.nn.softmax(logits, name = \"softmax_tensor\")\n",
        "    }\n",
        "\n",
        "    if mode == tf.estimator.ModeKeys.PREDICT:\n",
        "        return tf.estimator.EstimatorSpec(\n",
        "            mode = mode,\n",
        "            predictions = predictions\n",
        "        )\n",
        "\n",
        "    # Calculate Loss (for both TRAIN and EVAL modes)\n",
        "    loss = tf.losses.sparse_softmax_cross_entropy(\n",
        "        labels = labels,\n",
        "        logits = logits\n",
        "    )\n",
        "\n",
        "    # Configure the Training Op (for TRAIN mode)\n",
        "    if mode == tf.estimator.ModeKeys.TRAIN:\n",
        "\n",
        "        optimizer = tf.train.GradientDescentOptimizer(\n",
        "            learning_rate = LEARNING_RATE\n",
        "        )\n",
        "        train_op = optimizer.minimize(\n",
        "            loss = loss,\n",
        "            global_step = tf.train.get_global_step()\n",
        "        )\n",
        "\n",
        "        return tf.estimator.EstimatorSpec(\n",
        "            mode = mode,\n",
        "            loss = loss,\n",
        "            train_op = train_op\n",
        "        )\n",
        "\n",
        "    # Add evaluation metrics (for EVAL mode)\n",
        "    eval_metric_ops = {\n",
        "        \"accuracy\": tf.metrics.accuracy(\n",
        "            labels = labels,\n",
        "            predictions = predictions[\"classes\"]\n",
        "        )\n",
        "    }\n",
        "\n",
        "    return tf.estimator.EstimatorSpec(\n",
        "        mode = mode,\n",
        "        loss = loss,\n",
        "        eval_metric_ops = eval_metric_ops\n",
        "    )"
      ],
      "execution_count": 0,
      "outputs": []
    },
    {
      "cell_type": "markdown",
      "metadata": {
        "id": "BifdneGnqGz4",
        "colab_type": "text"
      },
      "source": [
        "##Load Data and Setup Logging"
      ]
    },
    {
      "cell_type": "markdown",
      "metadata": {
        "id": "peTWxyaU4e9N",
        "colab_type": "text"
      },
      "source": [
        "###Data"
      ]
    },
    {
      "cell_type": "code",
      "metadata": {
        "id": "jHyUGD7uYm58",
        "colab_type": "code",
        "colab": {}
      },
      "source": [
        "train_data = np.loadtxt(PATH + TRAIN_SET)\n",
        "eval_data = np.loadtxt(PATH + EVAL_SET)\n",
        "\n",
        "train_labels = np.loadtxt(\n",
        "    PATH + TRAIN_LABELS,\n",
        "    dtype = np.int32\n",
        ")\n",
        "eval_labels = np.loadtxt(\n",
        "    PATH + EVAL_LABELS,\n",
        "    dtype = np.int32\n",
        ")"
      ],
      "execution_count": 0,
      "outputs": []
    },
    {
      "cell_type": "markdown",
      "metadata": {
        "id": "cu8i3DsN4lHV",
        "colab_type": "text"
      },
      "source": [
        "###Logging"
      ]
    },
    {
      "cell_type": "code",
      "metadata": {
        "id": "oLYom4HUpW0a",
        "colab_type": "code",
        "colab": {}
      },
      "source": [
        "tensors_to_log = {\"probabilities\": \"softmax_tensor\"}\n",
        "logging_hook = tf.train.LoggingTensorHook(\n",
        "    tensors = tensors_to_log,\n",
        "    every_n_iter = 50\n",
        ")"
      ],
      "execution_count": 0,
      "outputs": []
    },
    {
      "cell_type": "markdown",
      "metadata": {
        "id": "4AS-aCIavEc7",
        "colab_type": "text"
      },
      "source": [
        "##Create Estimator and Train"
      ]
    },
    {
      "cell_type": "markdown",
      "metadata": {
        "id": "l9d2TMXRpqDe",
        "colab_type": "text"
      },
      "source": [
        "###Create Estimator"
      ]
    },
    {
      "cell_type": "code",
      "metadata": {
        "id": "VAKzY479Y0P0",
        "colab_type": "code",
        "outputId": "7813df9e-ed9d-4c06-eb9e-26ffb6cda2dc",
        "colab": {
          "base_uri": "https://localhost:8080/",
          "height": 71
        }
      },
      "source": [
        "classifier = tf.estimator.Estimator(model_fn = deficit_cnn_model)"
      ],
      "execution_count": 9,
      "outputs": [
        {
          "output_type": "stream",
          "text": [
            "WARNING: Logging before flag parsing goes to stderr.\n",
            "W0628 15:45:36.186709 140579850200960 estimator.py:1811] Using temporary folder as model directory: /tmp/tmp9oizd2ko\n"
          ],
          "name": "stderr"
        }
      ]
    },
    {
      "cell_type": "markdown",
      "metadata": {
        "colab_type": "text",
        "id": "miR0udQm7dNe"
      },
      "source": [
        "###Training"
      ]
    },
    {
      "cell_type": "code",
      "metadata": {
        "colab_type": "code",
        "id": "Tb-Ua4Jh7e1t",
        "colab": {}
      },
      "source": [
        "# Shape: [606, 50, HISTORY, 1]\n",
        "input_layer = tf.reshape(train_data, [-1, NODE_COUNT, HISTORY, 1])"
      ],
      "execution_count": 0,
      "outputs": []
    },
    {
      "cell_type": "code",
      "metadata": {
        "colab_type": "code",
        "id": "-g_WPM1M7R3G",
        "outputId": "70541873-8ca0-4b6b-deaf-ceef0053282c",
        "colab": {
          "base_uri": "https://localhost:8080/",
          "height": 547
        }
      },
      "source": [
        "train_input_fn = tf.estimator.inputs.numpy_input_fn(\n",
        "    x = train_data,\n",
        "    y = train_labels,\n",
        "    batch_size = BATCH_SIZE,\n",
        "    num_epochs = None,\n",
        "    shuffle = True\n",
        ")\n",
        "\n",
        "classifier.train(\n",
        "    input_fn = train_input_fn,\n",
        "    steps = STEPS,\n",
        "    #hooks = [logging_hook]\n",
        ")"
      ],
      "execution_count": 0,
      "outputs": [
        {
          "output_type": "stream",
          "text": [
            "W0628 15:45:36.245956 140579850200960 deprecation.py:323] From /usr/local/lib/python3.6/dist-packages/tensorflow/python/training/training_util.py:236: Variable.initialized_value (from tensorflow.python.ops.variables) is deprecated and will be removed in a future version.\n",
            "Instructions for updating:\n",
            "Use Variable.read_value. Variables in 2.X are initialized automatically both in eager and graph (inside tf.defun) contexts.\n",
            "W0628 15:45:36.260403 140579850200960 deprecation.py:323] From /usr/local/lib/python3.6/dist-packages/tensorflow_estimator/python/estimator/inputs/queues/feeding_queue_runner.py:62: QueueRunner.__init__ (from tensorflow.python.training.queue_runner_impl) is deprecated and will be removed in a future version.\n",
            "Instructions for updating:\n",
            "To construct input pipelines, use the `tf.data` module.\n",
            "W0628 15:45:36.262594 140579850200960 deprecation.py:323] From /usr/local/lib/python3.6/dist-packages/tensorflow_estimator/python/estimator/inputs/queues/feeding_functions.py:500: add_queue_runner (from tensorflow.python.training.queue_runner_impl) is deprecated and will be removed in a future version.\n",
            "Instructions for updating:\n",
            "To construct input pipelines, use the `tf.data` module.\n",
            "W0628 15:45:36.275767 140579850200960 deprecation.py:323] From <ipython-input-6-5739cdd3ed46>:20: conv2d (from tensorflow.python.layers.convolutional) is deprecated and will be removed in a future version.\n",
            "Instructions for updating:\n",
            "Use `tf.keras.layers.Conv2D` instead.\n",
            "W0628 15:45:36.278989 140579850200960 deprecation.py:506] From /usr/local/lib/python3.6/dist-packages/tensorflow/python/ops/init_ops.py:1251: calling VarianceScaling.__init__ (from tensorflow.python.ops.init_ops) with dtype is deprecated and will be removed in a future version.\n",
            "Instructions for updating:\n",
            "Call initializer instance with the dtype argument instead of passing it to the constructor\n",
            "W0628 15:45:36.478728 140579850200960 deprecation.py:323] From <ipython-input-6-5739cdd3ed46>:29: max_pooling2d (from tensorflow.python.layers.pooling) is deprecated and will be removed in a future version.\n",
            "Instructions for updating:\n",
            "Use keras.layers.MaxPooling2D instead.\n",
            "W0628 15:45:36.610905 140579850200960 deprecation.py:323] From <ipython-input-6-5739cdd3ed46>:43: dense (from tensorflow.python.layers.core) is deprecated and will be removed in a future version.\n",
            "Instructions for updating:\n",
            "Use keras.layers.dense instead.\n",
            "W0628 15:45:36.875300 140579850200960 deprecation.py:323] From <ipython-input-6-5739cdd3ed46>:52: dropout (from tensorflow.python.layers.core) is deprecated and will be removed in a future version.\n",
            "Instructions for updating:\n",
            "Use keras.layers.dropout instead.\n",
            "W0628 15:45:36.957730 140579850200960 deprecation.py:323] From /usr/local/lib/python3.6/dist-packages/tensorflow/python/ops/losses/losses_impl.py:121: add_dispatch_support.<locals>.wrapper (from tensorflow.python.ops.array_ops) is deprecated and will be removed in a future version.\n",
            "Instructions for updating:\n",
            "Use tf.where in 2.0, which has the same broadcast rule as np.where\n",
            "W0628 15:45:37.955398 140579850200960 deprecation.py:323] From /usr/local/lib/python3.6/dist-packages/tensorflow/python/training/monitored_session.py:875: start_queue_runners (from tensorflow.python.training.queue_runner_impl) is deprecated and will be removed in a future version.\n",
            "Instructions for updating:\n",
            "To construct input pipelines, use the `tf.data` module.\n"
          ],
          "name": "stderr"
        }
      ]
    },
    {
      "cell_type": "markdown",
      "metadata": {
        "id": "Ss6A-67c19CE",
        "colab_type": "text"
      },
      "source": [
        "##Evaluation"
      ]
    },
    {
      "cell_type": "code",
      "metadata": {
        "id": "wz7EBVAJY659",
        "colab_type": "code",
        "colab": {}
      },
      "source": [
        "# Evaluate the model and print results\n",
        "eval_input_fn = tf.estimator.inputs.numpy_input_fn(\n",
        "    x = eval_data,\n",
        "    y = eval_labels,\n",
        "    num_epochs = 1,\n",
        "    shuffle = False\n",
        ")\n",
        "eval_results = classifier.evaluate(input_fn = eval_input_fn)\n",
        "print(eval_results)\n"
      ],
      "execution_count": 0,
      "outputs": []
    }
  ]
}