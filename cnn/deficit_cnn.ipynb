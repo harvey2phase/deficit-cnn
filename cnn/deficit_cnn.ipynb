{
  "nbformat": 4,
  "nbformat_minor": 0,
  "metadata": {
    "colab": {
      "name": "deficit_cnn.ipynb",
      "version": "0.3.2",
      "provenance": [],
      "collapsed_sections": [],
      "include_colab_link": true
    },
    "kernelspec": {
      "name": "python2",
      "display_name": "Python 2"
    },
    "accelerator": "GPU"
  },
  "cells": [
    {
      "cell_type": "markdown",
      "metadata": {
        "id": "view-in-github",
        "colab_type": "text"
      },
      "source": [
        "<a href=\"https://colab.research.google.com/github/harvey2phase/summer-research/blob/master/cnn/deficit_cnn.ipynb\" target=\"_parent\"><img src=\"https://colab.research.google.com/assets/colab-badge.svg\" alt=\"Open In Colab\"/></a>"
      ]
    },
    {
      "cell_type": "markdown",
      "metadata": {
        "id": "M0DJNY2_onLW",
        "colab_type": "text"
      },
      "source": [
        "function enable_vim() {\n",
        "    document.querySelectorAll(\".CodeMirror\").forEach(\n",
        "        function (e) {\n",
        "            e.CodeMirror.setOption(\"vimMode\", true);\n",
        "            CodeMirror.Vim.map('jk', '<Esc>', 'insert')\n",
        "            CodeMirror.Vim.map('JK', '<Esc>', 'insert')\n",
        "            CodeMirror.Vim.map('jk', '<Esc>', 'visual')\n",
        "            CodeMirror.Vim.map('JK', '<Esc>', 'visual')\n",
        "        }\n",
        "    );\n",
        "}\n",
        "document.addEventListener(\n",
        "    'keydown', function(e) {\n",
        "        if (e.keyCode == 13 && e.metaKey || e.keyCode == 13 && e.shiftKey) {\n",
        "            for (var i = 0; i < 10; i++) setTimeout(enable_vim, 1000 * i);\n",
        "        }\n",
        "    }\n",
        ");\n",
        "enable_vim();\n"
      ]
    },
    {
      "cell_type": "markdown",
      "metadata": {
        "id": "ogzhAuBz56_g",
        "colab_type": "text"
      },
      "source": [
        "## Setup "
      ]
    },
    {
      "cell_type": "markdown",
      "metadata": {
        "id": "8iP4VnWP2U4c",
        "colab_type": "text"
      },
      "source": [
        "###Imports"
      ]
    },
    {
      "cell_type": "code",
      "metadata": {
        "id": "7BgtCd2okfpJ",
        "colab_type": "code",
        "colab": {}
      },
      "source": [
        "from __future__ import absolute_import, division, print_function\n",
        "from google.colab import drive\n",
        "\n",
        "import numpy as np\n",
        "import os\n",
        "import tensorflow as tf\n",
        "#import matplotlib.pyplot as plt\n",
        "#import keras"
      ],
      "execution_count": 0,
      "outputs": []
    },
    {
      "cell_type": "markdown",
      "metadata": {
        "id": "Cbh78kUm5q_Z",
        "colab_type": "text"
      },
      "source": [
        "###Data"
      ]
    },
    {
      "cell_type": "code",
      "metadata": {
        "id": "ria_Y5e7mlEP",
        "colab_type": "code",
        "colab": {}
      },
      "source": [
        "HISTORY = None\n",
        "NODE_COUNT = 50\n",
        "\n",
        "TRAIN_SET = None\n",
        "TRAIN_LABELS = None\n",
        "EVAL_SET = None\n",
        "EVAL_LABELS = None"
      ],
      "execution_count": 0,
      "outputs": []
    },
    {
      "cell_type": "code",
      "metadata": {
        "id": "WYIXhrW32sAJ",
        "colab_type": "code",
        "colab": {}
      },
      "source": [
        "def set_data(data_folder, history):\n",
        "    global DATA_FOLDER\n",
        "    global HISTORY\n",
        "    global TRAIN_SET\n",
        "    global TRAIN_LABELS\n",
        "    global EVAL_SET\n",
        "    global EVAL_LABELS\n",
        "    \n",
        "    DATA_FOLDER = data_folder\n",
        "    HISTORY = history\n",
        "    history = str(history)\n",
        "\n",
        "    # Shape: [training_size, NODE_COUNT * HISTORY]\n",
        "    TRAIN_SET = DATA_FOLDER + str(HISTORY) + \"x5y_train_set.txt\"\n",
        "    TRAIN_LABELS = DATA_FOLDER + str(HISTORY) + \"x5y_train_labels.txt\"\n",
        "    EVAL_SET = DATA_FOLDER + str(HISTORY) + \"x5y_eval_set.txt\"\n",
        "    EVAL_LABELS = DATA_FOLDER + str(HISTORY) + \"x5y_eval_labels.txt\""
      ],
      "execution_count": 0,
      "outputs": []
    },
    {
      "cell_type": "markdown",
      "metadata": {
        "id": "PU7ABLbC2XSL",
        "colab_type": "text"
      },
      "source": [
        "###Hyperparameters"
      ]
    },
    {
      "cell_type": "code",
      "metadata": {
        "id": "hnAqZBPGkC2R",
        "colab_type": "code",
        "colab": {}
      },
      "source": [
        "CONV_FILTERS = None\n",
        "CONV_SIZES = None\n",
        "CONV_COUNT = None\n",
        "\n",
        "POOL_SIZE = [2, 2]\n",
        "POOL_STRIDE = 2\n",
        "\n",
        "DENSE_UNITS = 1024\n",
        "LOGITS_UNITS = 10\n",
        "\n",
        "STEPS = None\n",
        "LEARNING_RATE = 10 ** -4\n",
        "DROPOUT_RATE = 0.4\n",
        "BATCH_SIZE = 10"
      ],
      "execution_count": 0,
      "outputs": []
    },
    {
      "cell_type": "code",
      "metadata": {
        "id": "ViaCLs5zmPHm",
        "colab_type": "code",
        "colab": {}
      },
      "source": [
        "def set_hype(filters, sizes, steps):\n",
        "    global CONV_FILTERS\n",
        "    global CONV_SIZES\n",
        "    global CONV_COUNT\n",
        "    global STEPS\n",
        "    \n",
        "    CONV_FILTERS = filters\n",
        "    CONV_SIZES = sizes\n",
        "    CONV_COUNT = len(CONV_FILTERS)\n",
        "    STEPS = steps"
      ],
      "execution_count": 0,
      "outputs": []
    },
    {
      "cell_type": "markdown",
      "metadata": {
        "id": "Brye7mRy2gHH",
        "colab_type": "text"
      },
      "source": [
        "###Logging"
      ]
    },
    {
      "cell_type": "code",
      "metadata": {
        "id": "xoe15mfC1b0U",
        "colab_type": "code",
        "colab": {}
      },
      "source": [
        "tensors_to_log = {\"probabilities\": \"softmax_tensor\"}\n",
        "logging_hook = tf.train.LoggingTensorHook(\n",
        "    tensors = tensors_to_log,\n",
        "    every_n_iter = 50\n",
        ")"
      ],
      "execution_count": 0,
      "outputs": []
    },
    {
      "cell_type": "markdown",
      "metadata": {
        "id": "hXt8jbid4Zzd",
        "colab_type": "text"
      },
      "source": [
        "##Model and Run Functions"
      ]
    },
    {
      "cell_type": "code",
      "metadata": {
        "id": "kNf32Dd6WpOQ",
        "colab_type": "code",
        "colab": {}
      },
      "source": [
        "def deficit_cnn_model(features, labels, mode):\n",
        "\n",
        "    ''' Input Layer '''\n",
        "    # Reshape X to 4-D tensor: [batch_size, width, height, channels]\n",
        "    layer = tf.reshape(features, [-1, NODE_COUNT, HISTORY, 1])\n",
        "    \n",
        "    # Image length and width\n",
        "    length = NODE_COUNT\n",
        "    width = HISTORY\n",
        "    for i in range(CONV_COUNT):\n",
        "\n",
        "        ''' Convolutional Layer '''\n",
        "        # Computes 32 features using a 5x5 filter with ReLU activation.\n",
        "        #   Padding is added to preserve width and height.\n",
        "        # Output Tensor Shape: [batch_size, length, width, filter size]\n",
        "        layer = tf.layers.conv2d(\n",
        "            inputs = layer,\n",
        "            filters = CONV_FILTERS[i],\n",
        "            kernel_size = CONV_SIZES[i],\n",
        "            padding = \"same\",\n",
        "            activation = tf.nn.relu\n",
        "        )\n",
        "    \n",
        "        ''' Pooling Layer '''\n",
        "        # Max pooling layer with a 2x2 filter and stride of 2\n",
        "        # Output Tensor Shape: [batch_size, length / 2, width / 2 , filter size]\n",
        "        layer = tf.layers.max_pooling2d(\n",
        "            inputs = layer,\n",
        "            pool_size = POOL_SIZE,\n",
        "            strides = POOL_STRIDE\n",
        "        )\n",
        "        \n",
        "        length = int(length / 2)\n",
        "        width = int(width / 2)\n",
        "\n",
        "    \n",
        "    ''' Flatten tensor into a batch of vectors '''\n",
        "    pool2_flat = tf.reshape(layer, [-1, CONV_FILTERS[i] * length * width])\n",
        "\n",
        "    ''' Dense Layer '''\n",
        "    # Densely connected layer with 1024 neurons\n",
        "    # Tensor Shape: [batch_size, 1024]\n",
        "    dense = tf.layers.dense(\n",
        "        inputs = pool2_flat,\n",
        "        units = DENSE_UNITS,\n",
        "        activation = tf.nn.relu\n",
        "    )\n",
        "    \n",
        "    ''' Add dropout operation '''\n",
        "    # 0.6 probability that element will be kept\n",
        "    # Tensor Shape: [batch_size, 1024]\n",
        "    dropout = tf.layers.dropout(\n",
        "        inputs = dense,\n",
        "        rate = DROPOUT_RATE,\n",
        "        training = mode == tf.estimator.ModeKeys.TRAIN\n",
        "    )\n",
        "\n",
        "\n",
        "    ''' Logits layer '''\n",
        "    # Input Tensor Shape: [batch_size, 1024]\n",
        "    # Tensor Shape: [batch_size, 1024]\n",
        "    logits = tf.layers.dense(\n",
        "        inputs = dropout,\n",
        "        units = LOGITS_UNITS\n",
        "    )\n",
        "\n",
        "    predictions = {\n",
        "        # Generate predictions (for PREDICT and EVAL mode)\n",
        "        \"classes\": tf.argmax(input = logits, axis = 1),\n",
        "\n",
        "        # Add `softmax_tensor` to the graph.\n",
        "        # It is used for PREDICT and by the `logging_hook`.\n",
        "        \"probabilities\": tf.nn.softmax(logits, name = \"softmax_tensor\")\n",
        "    }\n",
        "\n",
        "    if mode == tf.estimator.ModeKeys.PREDICT:\n",
        "        return tf.estimator.EstimatorSpec(\n",
        "            mode = mode,\n",
        "            predictions = predictions\n",
        "        )\n",
        "\n",
        "    # Calculate Loss (for both TRAIN and EVAL modes)\n",
        "    loss = tf.losses.sparse_softmax_cross_entropy(\n",
        "        labels = labels,\n",
        "        logits = logits\n",
        "    )\n",
        "\n",
        "    # Configure the Training Op (for TRAIN mode)\n",
        "    if mode == tf.estimator.ModeKeys.TRAIN:\n",
        "\n",
        "        optimizer = tf.train.GradientDescentOptimizer(\n",
        "            learning_rate = LEARNING_RATE\n",
        "        )\n",
        "        train_op = optimizer.minimize(\n",
        "            loss = loss,\n",
        "            global_step = tf.train.get_global_step()\n",
        "        )\n",
        "\n",
        "        return tf.estimator.EstimatorSpec(\n",
        "            mode = mode,\n",
        "            loss = loss,\n",
        "            train_op = train_op\n",
        "        )\n",
        "\n",
        "    # Add evaluation metrics (for EVAL mode)\n",
        "    eval_metric_ops = {\n",
        "        \"accuracy\": tf.metrics.accuracy(\n",
        "            labels = labels,\n",
        "            predictions = predictions[\"classes\"]\n",
        "        )\n",
        "    }\n",
        "\n",
        "    return tf.estimator.EstimatorSpec(\n",
        "        mode = mode,\n",
        "        loss = loss,\n",
        "        eval_metric_ops = eval_metric_ops\n",
        "    )"
      ],
      "execution_count": 0,
      "outputs": []
    },
    {
      "cell_type": "code",
      "metadata": {
        "colab_type": "code",
        "id": "-g_WPM1M7R3G",
        "colab": {}
      },
      "source": [
        "def run(filename):\n",
        "\n",
        "    train_data = np.loadtxt(PATH + TRAIN_SET)\n",
        "    eval_data = np.loadtxt(PATH + EVAL_SET)\n",
        "    \n",
        "    train_labels = np.loadtxt(\n",
        "        PATH + TRAIN_LABELS,\n",
        "        dtype = np.int32\n",
        "    )\n",
        "    \n",
        "    eval_labels = np.loadtxt(\n",
        "        PATH + EVAL_LABELS,\n",
        "        dtype = np.int32\n",
        "    )\n",
        "    \n",
        "    classifier = tf.estimator.Estimator(model_fn = deficit_cnn_model)\n",
        "    \n",
        "    train_input_fn = tf.estimator.inputs.numpy_input_fn(\n",
        "        x = train_data,\n",
        "        y = train_labels,\n",
        "        batch_size = BATCH_SIZE,\n",
        "        num_epochs = None,\n",
        "        shuffle = True\n",
        "    )\n",
        "    \n",
        "    classifier.train(\n",
        "        input_fn = train_input_fn,\n",
        "        steps = STEPS,\n",
        "        #hooks = [logging_hook]\n",
        "    )\n",
        "    \n",
        "    # Evaluate the model and print results\n",
        "    eval_input_fn = tf.estimator.inputs.numpy_input_fn(\n",
        "        x = eval_data,\n",
        "        y = eval_labels,\n",
        "        num_epochs = 1,\n",
        "        shuffle = False\n",
        "    )\n",
        "    eval_results = classifier.evaluate(input_fn = eval_input_fn)\n",
        "    \n",
        "    results = open(PATH + filename, \"a+\")\n",
        "    \n",
        "    results.write(\"Data: \" + DATA_FOLDER + \"\\n\")\n",
        "    results.write(\"HISTORY: \" + str(HISTORY) + \"\\n\")\n",
        "    results.write(\"Filters: \" + str(CONV_FILTERS) + \"\\n\")\n",
        "    results.write(\"Sizes: \" + str(CONV_SIZES) + \"\\n\")\n",
        "    results.write(str(eval_results))\n",
        "    results.write(\"\\n\\n --- \\n\\n\")"
      ],
      "execution_count": 0,
      "outputs": []
    },
    {
      "cell_type": "markdown",
      "metadata": {
        "id": "wnVl5n63nF08",
        "colab_type": "text"
      },
      "source": [
        "##Run Script"
      ]
    },
    {
      "cell_type": "code",
      "metadata": {
        "id": "OAQ1ZDce0pSJ",
        "colab_type": "code",
        "outputId": "ecb1477c-d6de-4e3a-91a8-fd79d81c0356",
        "colab": {
          "base_uri": "https://localhost:8080/",
          "height": 34
        }
      },
      "source": [
        "drive.mount('/content/gdrive')\n",
        "PATH = \"/content/gdrive/My Drive/\"\n",
        "\n",
        "#0: all messages are logged (default behavior)\n",
        "#1: INFO messages are not printed\n",
        "#2: INFO and WARNING messages are not printed\n",
        "#3: INFO, WARNING, and ERROR messages are not printed\n",
        "os.environ['TF_CPP_MIN_LOG_LEVEL'] = '2' "
      ],
      "execution_count": 9,
      "outputs": [
        {
          "output_type": "stream",
          "text": [
            "Drive already mounted at /content/gdrive; to attempt to forcibly remount, call drive.mount(\"/content/gdrive\", force_remount=True).\n"
          ],
          "name": "stdout"
        }
      ]
    },
    {
      "cell_type": "code",
      "metadata": {
        "id": "bSFmSDsQnE-s",
        "colab_type": "code",
        "outputId": "c6c24823-2630-4fdd-b64b-d7fbc0b3763c",
        "colab": {
          "base_uri": "https://localhost:8080/",
          "height": 581
        }
      },
      "source": [
        "data_folder = \"e4_prob_of_death_at_80/\"\n",
        "histories = [\n",
        "    15,\n",
        "    20\n",
        "]\n",
        "filters = [\n",
        "    [32, 64, 128],\n",
        "    [64, 64, 128],\n",
        "    [64, 128, 128],\n",
        "    [128, 128, 128]\n",
        "]\n",
        "sizes = [\n",
        "    [[2, 2], [2, 2], [2, 2]],\n",
        "    [[7, 7], [7, 7], [7, 7]],\n",
        "    [[9, 9], [9, 9], [9, 9]]\n",
        "]\n",
        "steps = [\n",
        "    0.5 * 10 ** 5,\n",
        "    1 * 10 ** 5,\n",
        "    2 * 10 ** 5,\n",
        "    4 * 10 ** 5\n",
        "]\n",
        "\n",
        "for history in histories:\n",
        "    for f in filters:\n",
        "        for size in sizes:\n",
        "            for step in steps:\n",
        "                set_data(data_folder, history)\n",
        "                set_hype(f, size, step)\n",
        "                run(\"results.txt\")"
      ],
      "execution_count": 0,
      "outputs": [
        {
          "output_type": "stream",
          "text": [
            "WARNING: Logging before flag parsing goes to stderr.\n",
            "W0630 15:36:30.281100 139771600086912 estimator.py:1811] Using temporary folder as model directory: /tmp/tmpqYFQ4O\n",
            "W0630 15:36:30.303978 139771600086912 deprecation.py:323] From /usr/local/lib/python2.7/dist-packages/tensorflow/python/training/training_util.py:236: initialized_value (from tensorflow.python.ops.variables) is deprecated and will be removed in a future version.\n",
            "Instructions for updating:\n",
            "Use Variable.read_value. Variables in 2.X are initialized automatically both in eager and graph (inside tf.defun) contexts.\n",
            "W0630 15:36:30.320117 139771600086912 deprecation.py:323] From /usr/local/lib/python2.7/dist-packages/tensorflow_estimator/python/estimator/inputs/queues/feeding_queue_runner.py:62: __init__ (from tensorflow.python.training.queue_runner_impl) is deprecated and will be removed in a future version.\n",
            "Instructions for updating:\n",
            "To construct input pipelines, use the `tf.data` module.\n",
            "W0630 15:36:30.322989 139771600086912 deprecation.py:323] From /usr/local/lib/python2.7/dist-packages/tensorflow_estimator/python/estimator/inputs/queues/feeding_functions.py:500: add_queue_runner (from tensorflow.python.training.queue_runner_impl) is deprecated and will be removed in a future version.\n",
            "Instructions for updating:\n",
            "To construct input pipelines, use the `tf.data` module.\n",
            "W0630 15:36:30.336779 139771600086912 deprecation.py:323] From <ipython-input-7-d2dadc95c770>:21: conv2d (from tensorflow.python.layers.convolutional) is deprecated and will be removed in a future version.\n",
            "Instructions for updating:\n",
            "Use `tf.keras.layers.Conv2D` instead.\n",
            "W0630 15:36:30.342147 139771600086912 deprecation.py:506] From /usr/local/lib/python2.7/dist-packages/tensorflow/python/ops/init_ops.py:1251: calling __init__ (from tensorflow.python.ops.init_ops) with dtype is deprecated and will be removed in a future version.\n",
            "Instructions for updating:\n",
            "Call initializer instance with the dtype argument instead of passing it to the constructor\n",
            "W0630 15:36:30.672883 139771600086912 deprecation.py:323] From <ipython-input-7-d2dadc95c770>:30: max_pooling2d (from tensorflow.python.layers.pooling) is deprecated and will be removed in a future version.\n",
            "Instructions for updating:\n",
            "Use keras.layers.MaxPooling2D instead.\n",
            "W0630 15:36:30.840097 139771600086912 deprecation.py:323] From <ipython-input-7-d2dadc95c770>:46: dense (from tensorflow.python.layers.core) is deprecated and will be removed in a future version.\n",
            "Instructions for updating:\n",
            "Use keras.layers.dense instead.\n",
            "W0630 15:36:31.134249 139771600086912 deprecation.py:323] From <ipython-input-7-d2dadc95c770>:55: dropout (from tensorflow.python.layers.core) is deprecated and will be removed in a future version.\n",
            "Instructions for updating:\n",
            "Use keras.layers.dropout instead.\n",
            "W0630 15:36:31.229094 139771600086912 deprecation.py:323] From /usr/local/lib/python2.7/dist-packages/tensorflow/python/ops/losses/losses_impl.py:121: where (from tensorflow.python.ops.array_ops) is deprecated and will be removed in a future version.\n",
            "Instructions for updating:\n",
            "Use tf.where in 2.0, which has the same broadcast rule as np.where\n",
            "W0630 15:36:32.195236 139771600086912 deprecation.py:323] From /usr/local/lib/python2.7/dist-packages/tensorflow/python/training/monitored_session.py:875: start_queue_runners (from tensorflow.python.training.queue_runner_impl) is deprecated and will be removed in a future version.\n",
            "Instructions for updating:\n",
            "To construct input pipelines, use the `tf.data` module.\n"
          ],
          "name": "stderr"
        }
      ]
    }
  ]
}